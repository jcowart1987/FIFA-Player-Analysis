{
  "nbformat": 4,
  "nbformat_minor": 0,
  "metadata": {
    "colab": {
      "provenance": [],
      "authorship_tag": "ABX9TyP7OglxvRH8vl/kFhkmhg/Q",
      "include_colab_link": true
    },
    "kernelspec": {
      "name": "python3",
      "display_name": "Python 3"
    },
    "language_info": {
      "name": "python"
    }
  },
  "cells": [
    {
      "cell_type": "markdown",
      "metadata": {
        "id": "view-in-github",
        "colab_type": "text"
      },
      "source": [
        "<a href=\"https://colab.research.google.com/github/jcowart1987/Project2/blob/main/Project2DataCleaning.ipynb\" target=\"_parent\"><img src=\"https://colab.research.google.com/assets/colab-badge.svg\" alt=\"Open In Colab\"/></a>"
      ]
    },
    {
      "cell_type": "markdown",
      "source": [
        "#Imports"
      ],
      "metadata": {
        "id": "711gTAI7abXl"
      }
    },
    {
      "cell_type": "code",
      "source": [
        "## Pandas\n",
        "import pandas as pd\n",
        "## Numpy\n",
        "import numpy as np\n",
        "## MatplotLib\n",
        "import matplotlib.pyplot as plt\n",
        "## Seaborn\n",
        "import seaborn as sns\n",
        "\n",
        "## Preprocessing\n",
        "from sklearn.model_selection import train_test_split, GridSearchCV\n",
        "from sklearn.compose import make_column_selector\n",
        "from sklearn.preprocessing import StandardScaler, OneHotEncoder\n",
        "from sklearn.pipeline import make_pipeline\n",
        "from sklearn.compose import make_column_transformer\n",
        "from sklearn.impute import SimpleImputer\n",
        "\n",
        "## Models\n",
        "from sklearn.ensemble import AdaBoostClassifier\n",
        "from lightgbm import LGBMClassifier\n",
        "from xgboost import XGBClassifier\n",
        "\n",
        "## Classification Metrics\n",
        "from sklearn.metrics import accuracy_score, recall_score, precision_score, \\\n",
        "f1_score, classification_report, confusion_matrix, ConfusionMatrixDisplay, \\\n",
        "RocCurveDisplay\n",
        "\n",
        "from sklearn import metrics\n",
        "\n",
        "from sklearn.model_selection import GridSearchCV\n",
        "\n",
        "## Import SMOTE\n",
        "from imblearn.over_sampling import SMOTE\n",
        "## Import special pipeline for smote\n",
        "from imblearn.pipeline import make_pipeline as smote_pipe\n",
        "\n",
        "\n",
        "## Set global scikit-learn configuration \n",
        "from sklearn import set_config\n",
        "## Display estimators as a diagram\n",
        "set_config(display='diagram') # 'text' or 'diagram'}"
      ],
      "metadata": {
        "id": "j_srhlvKaYkR"
      },
      "execution_count": 18,
      "outputs": []
    },
    {
      "cell_type": "code",
      "execution_count": 5,
      "metadata": {
        "id": "fTQU3JebxbJ_"
      },
      "outputs": [],
      "source": [
        "#Upload FIFA 22 data\n",
        "\n",
        "df = pd.read_csv('/content/FifaPlayers22.csv')"
      ]
    },
    {
      "cell_type": "code",
      "source": [
        "df.head()"
      ],
      "metadata": {
        "colab": {
          "base_uri": "https://localhost:8080/",
          "height": 299
        },
        "id": "LmMPBoPAzETr",
        "outputId": "69bf4cef-36fd-4e89-ba3c-443d6544d9d6"
      },
      "execution_count": 6,
      "outputs": [
        {
          "output_type": "execute_result",
          "data": {
            "text/plain": [
              "   overall  potential    value_eur  age  height_cm  weight_kg  club_team_id  \\\n",
              "0       93         93   78000000.0   34        170         72          73.0   \n",
              "1       92         92  119500000.0   32        185         81          21.0   \n",
              "2       91         91   45000000.0   36        187         83          11.0   \n",
              "3       91         91  129000000.0   29        175         68          73.0   \n",
              "4       91         91  125500000.0   30        181         70          10.0   \n",
              "\n",
              "   league_level club_position    work_rate  ... defending  \\\n",
              "0           1.0            RW   Medium/Low  ...      34.0   \n",
              "1           1.0            ST  High/Medium  ...      44.0   \n",
              "2           1.0            ST     High/Low  ...      34.0   \n",
              "3           1.0            LW  High/Medium  ...      37.0   \n",
              "4           1.0           RCM    High/High  ...      64.0   \n",
              "\n",
              "   attacking_finishing  skill_dribbling  skill_curve  movement_acceleration  \\\n",
              "0                   95               96           93                     91   \n",
              "1                   95               85           79                     77   \n",
              "2                   95               88           81                     85   \n",
              "3                   83               95           88                     93   \n",
              "4                   82               88           85                     76   \n",
              "\n",
              "   movement_sprint_speed  power_shot_power  power_long_shots  \\\n",
              "0                     80                86                94   \n",
              "1                     79                90                87   \n",
              "2                     88                94                93   \n",
              "3                     89                80                81   \n",
              "4                     76                91                91   \n",
              "\n",
              "   mentality_aggression  defending_marking_awareness  \n",
              "0                    44                           20  \n",
              "1                    81                           35  \n",
              "2                    63                           24  \n",
              "3                    63                           35  \n",
              "4                    76                           68  \n",
              "\n",
              "[5 rows x 25 columns]"
            ],
            "text/html": [
              "\n",
              "  <div id=\"df-14525e95-c441-43d9-832c-d3e5090d8c16\">\n",
              "    <div class=\"colab-df-container\">\n",
              "      <div>\n",
              "<style scoped>\n",
              "    .dataframe tbody tr th:only-of-type {\n",
              "        vertical-align: middle;\n",
              "    }\n",
              "\n",
              "    .dataframe tbody tr th {\n",
              "        vertical-align: top;\n",
              "    }\n",
              "\n",
              "    .dataframe thead th {\n",
              "        text-align: right;\n",
              "    }\n",
              "</style>\n",
              "<table border=\"1\" class=\"dataframe\">\n",
              "  <thead>\n",
              "    <tr style=\"text-align: right;\">\n",
              "      <th></th>\n",
              "      <th>overall</th>\n",
              "      <th>potential</th>\n",
              "      <th>value_eur</th>\n",
              "      <th>age</th>\n",
              "      <th>height_cm</th>\n",
              "      <th>weight_kg</th>\n",
              "      <th>club_team_id</th>\n",
              "      <th>league_level</th>\n",
              "      <th>club_position</th>\n",
              "      <th>work_rate</th>\n",
              "      <th>...</th>\n",
              "      <th>defending</th>\n",
              "      <th>attacking_finishing</th>\n",
              "      <th>skill_dribbling</th>\n",
              "      <th>skill_curve</th>\n",
              "      <th>movement_acceleration</th>\n",
              "      <th>movement_sprint_speed</th>\n",
              "      <th>power_shot_power</th>\n",
              "      <th>power_long_shots</th>\n",
              "      <th>mentality_aggression</th>\n",
              "      <th>defending_marking_awareness</th>\n",
              "    </tr>\n",
              "  </thead>\n",
              "  <tbody>\n",
              "    <tr>\n",
              "      <th>0</th>\n",
              "      <td>93</td>\n",
              "      <td>93</td>\n",
              "      <td>78000000.0</td>\n",
              "      <td>34</td>\n",
              "      <td>170</td>\n",
              "      <td>72</td>\n",
              "      <td>73.0</td>\n",
              "      <td>1.0</td>\n",
              "      <td>RW</td>\n",
              "      <td>Medium/Low</td>\n",
              "      <td>...</td>\n",
              "      <td>34.0</td>\n",
              "      <td>95</td>\n",
              "      <td>96</td>\n",
              "      <td>93</td>\n",
              "      <td>91</td>\n",
              "      <td>80</td>\n",
              "      <td>86</td>\n",
              "      <td>94</td>\n",
              "      <td>44</td>\n",
              "      <td>20</td>\n",
              "    </tr>\n",
              "    <tr>\n",
              "      <th>1</th>\n",
              "      <td>92</td>\n",
              "      <td>92</td>\n",
              "      <td>119500000.0</td>\n",
              "      <td>32</td>\n",
              "      <td>185</td>\n",
              "      <td>81</td>\n",
              "      <td>21.0</td>\n",
              "      <td>1.0</td>\n",
              "      <td>ST</td>\n",
              "      <td>High/Medium</td>\n",
              "      <td>...</td>\n",
              "      <td>44.0</td>\n",
              "      <td>95</td>\n",
              "      <td>85</td>\n",
              "      <td>79</td>\n",
              "      <td>77</td>\n",
              "      <td>79</td>\n",
              "      <td>90</td>\n",
              "      <td>87</td>\n",
              "      <td>81</td>\n",
              "      <td>35</td>\n",
              "    </tr>\n",
              "    <tr>\n",
              "      <th>2</th>\n",
              "      <td>91</td>\n",
              "      <td>91</td>\n",
              "      <td>45000000.0</td>\n",
              "      <td>36</td>\n",
              "      <td>187</td>\n",
              "      <td>83</td>\n",
              "      <td>11.0</td>\n",
              "      <td>1.0</td>\n",
              "      <td>ST</td>\n",
              "      <td>High/Low</td>\n",
              "      <td>...</td>\n",
              "      <td>34.0</td>\n",
              "      <td>95</td>\n",
              "      <td>88</td>\n",
              "      <td>81</td>\n",
              "      <td>85</td>\n",
              "      <td>88</td>\n",
              "      <td>94</td>\n",
              "      <td>93</td>\n",
              "      <td>63</td>\n",
              "      <td>24</td>\n",
              "    </tr>\n",
              "    <tr>\n",
              "      <th>3</th>\n",
              "      <td>91</td>\n",
              "      <td>91</td>\n",
              "      <td>129000000.0</td>\n",
              "      <td>29</td>\n",
              "      <td>175</td>\n",
              "      <td>68</td>\n",
              "      <td>73.0</td>\n",
              "      <td>1.0</td>\n",
              "      <td>LW</td>\n",
              "      <td>High/Medium</td>\n",
              "      <td>...</td>\n",
              "      <td>37.0</td>\n",
              "      <td>83</td>\n",
              "      <td>95</td>\n",
              "      <td>88</td>\n",
              "      <td>93</td>\n",
              "      <td>89</td>\n",
              "      <td>80</td>\n",
              "      <td>81</td>\n",
              "      <td>63</td>\n",
              "      <td>35</td>\n",
              "    </tr>\n",
              "    <tr>\n",
              "      <th>4</th>\n",
              "      <td>91</td>\n",
              "      <td>91</td>\n",
              "      <td>125500000.0</td>\n",
              "      <td>30</td>\n",
              "      <td>181</td>\n",
              "      <td>70</td>\n",
              "      <td>10.0</td>\n",
              "      <td>1.0</td>\n",
              "      <td>RCM</td>\n",
              "      <td>High/High</td>\n",
              "      <td>...</td>\n",
              "      <td>64.0</td>\n",
              "      <td>82</td>\n",
              "      <td>88</td>\n",
              "      <td>85</td>\n",
              "      <td>76</td>\n",
              "      <td>76</td>\n",
              "      <td>91</td>\n",
              "      <td>91</td>\n",
              "      <td>76</td>\n",
              "      <td>68</td>\n",
              "    </tr>\n",
              "  </tbody>\n",
              "</table>\n",
              "<p>5 rows × 25 columns</p>\n",
              "</div>\n",
              "      <button class=\"colab-df-convert\" onclick=\"convertToInteractive('df-14525e95-c441-43d9-832c-d3e5090d8c16')\"\n",
              "              title=\"Convert this dataframe to an interactive table.\"\n",
              "              style=\"display:none;\">\n",
              "        \n",
              "  <svg xmlns=\"http://www.w3.org/2000/svg\" height=\"24px\"viewBox=\"0 0 24 24\"\n",
              "       width=\"24px\">\n",
              "    <path d=\"M0 0h24v24H0V0z\" fill=\"none\"/>\n",
              "    <path d=\"M18.56 5.44l.94 2.06.94-2.06 2.06-.94-2.06-.94-.94-2.06-.94 2.06-2.06.94zm-11 1L8.5 8.5l.94-2.06 2.06-.94-2.06-.94L8.5 2.5l-.94 2.06-2.06.94zm10 10l.94 2.06.94-2.06 2.06-.94-2.06-.94-.94-2.06-.94 2.06-2.06.94z\"/><path d=\"M17.41 7.96l-1.37-1.37c-.4-.4-.92-.59-1.43-.59-.52 0-1.04.2-1.43.59L10.3 9.45l-7.72 7.72c-.78.78-.78 2.05 0 2.83L4 21.41c.39.39.9.59 1.41.59.51 0 1.02-.2 1.41-.59l7.78-7.78 2.81-2.81c.8-.78.8-2.07 0-2.86zM5.41 20L4 18.59l7.72-7.72 1.47 1.35L5.41 20z\"/>\n",
              "  </svg>\n",
              "      </button>\n",
              "      \n",
              "  <style>\n",
              "    .colab-df-container {\n",
              "      display:flex;\n",
              "      flex-wrap:wrap;\n",
              "      gap: 12px;\n",
              "    }\n",
              "\n",
              "    .colab-df-convert {\n",
              "      background-color: #E8F0FE;\n",
              "      border: none;\n",
              "      border-radius: 50%;\n",
              "      cursor: pointer;\n",
              "      display: none;\n",
              "      fill: #1967D2;\n",
              "      height: 32px;\n",
              "      padding: 0 0 0 0;\n",
              "      width: 32px;\n",
              "    }\n",
              "\n",
              "    .colab-df-convert:hover {\n",
              "      background-color: #E2EBFA;\n",
              "      box-shadow: 0px 1px 2px rgba(60, 64, 67, 0.3), 0px 1px 3px 1px rgba(60, 64, 67, 0.15);\n",
              "      fill: #174EA6;\n",
              "    }\n",
              "\n",
              "    [theme=dark] .colab-df-convert {\n",
              "      background-color: #3B4455;\n",
              "      fill: #D2E3FC;\n",
              "    }\n",
              "\n",
              "    [theme=dark] .colab-df-convert:hover {\n",
              "      background-color: #434B5C;\n",
              "      box-shadow: 0px 1px 3px 1px rgba(0, 0, 0, 0.15);\n",
              "      filter: drop-shadow(0px 1px 2px rgba(0, 0, 0, 0.3));\n",
              "      fill: #FFFFFF;\n",
              "    }\n",
              "  </style>\n",
              "\n",
              "      <script>\n",
              "        const buttonEl =\n",
              "          document.querySelector('#df-14525e95-c441-43d9-832c-d3e5090d8c16 button.colab-df-convert');\n",
              "        buttonEl.style.display =\n",
              "          google.colab.kernel.accessAllowed ? 'block' : 'none';\n",
              "\n",
              "        async function convertToInteractive(key) {\n",
              "          const element = document.querySelector('#df-14525e95-c441-43d9-832c-d3e5090d8c16');\n",
              "          const dataTable =\n",
              "            await google.colab.kernel.invokeFunction('convertToInteractive',\n",
              "                                                     [key], {});\n",
              "          if (!dataTable) return;\n",
              "\n",
              "          const docLinkHtml = 'Like what you see? Visit the ' +\n",
              "            '<a target=\"_blank\" href=https://colab.research.google.com/notebooks/data_table.ipynb>data table notebook</a>'\n",
              "            + ' to learn more about interactive tables.';\n",
              "          element.innerHTML = '';\n",
              "          dataTable['output_type'] = 'display_data';\n",
              "          await google.colab.output.renderOutput(dataTable, element);\n",
              "          const docLink = document.createElement('div');\n",
              "          docLink.innerHTML = docLinkHtml;\n",
              "          element.appendChild(docLink);\n",
              "        }\n",
              "      </script>\n",
              "    </div>\n",
              "  </div>\n",
              "  "
            ]
          },
          "metadata": {},
          "execution_count": 6
        }
      ]
    },
    {
      "cell_type": "code",
      "source": [
        "#Make a copy of data in case of errors\n",
        "ml_df = df.copy()"
      ],
      "metadata": {
        "id": "5L3dsCgbaiCa"
      },
      "execution_count": 7,
      "outputs": []
    },
    {
      "cell_type": "code",
      "source": [
        "#Look for duplicates\n",
        "df.duplicated().sum()"
      ],
      "metadata": {
        "colab": {
          "base_uri": "https://localhost:8080/"
        },
        "id": "UTlMNIaxamKN",
        "outputId": "54671cdf-dbbb-46f0-f81c-63416f80b1ad"
      },
      "execution_count": 8,
      "outputs": [
        {
          "output_type": "execute_result",
          "data": {
            "text/plain": [
              "0"
            ]
          },
          "metadata": {},
          "execution_count": 8
        }
      ]
    },
    {
      "cell_type": "code",
      "source": [
        "#Drop unecessary columns\n",
        "df.info()"
      ],
      "metadata": {
        "colab": {
          "base_uri": "https://localhost:8080/"
        },
        "id": "UpwiCTkoapgV",
        "outputId": "651601bf-10fb-4b62-83c4-a3bd7c1309e5"
      },
      "execution_count": 9,
      "outputs": [
        {
          "output_type": "stream",
          "name": "stdout",
          "text": [
            "<class 'pandas.core.frame.DataFrame'>\n",
            "RangeIndex: 19239 entries, 0 to 19238\n",
            "Data columns (total 25 columns):\n",
            " #   Column                       Non-Null Count  Dtype  \n",
            "---  ------                       --------------  -----  \n",
            " 0   overall                      19239 non-null  int64  \n",
            " 1   potential                    19239 non-null  int64  \n",
            " 2   value_eur                    19165 non-null  float64\n",
            " 3   age                          19239 non-null  int64  \n",
            " 4   height_cm                    19239 non-null  int64  \n",
            " 5   weight_kg                    19239 non-null  int64  \n",
            " 6   club_team_id                 19178 non-null  float64\n",
            " 7   league_level                 19178 non-null  float64\n",
            " 8   club_position                19178 non-null  object \n",
            " 9   work_rate                    19239 non-null  object \n",
            " 10  body_type                    19239 non-null  object \n",
            " 11  pace                         17107 non-null  float64\n",
            " 12  shooting                     17107 non-null  float64\n",
            " 13  passing                      17107 non-null  float64\n",
            " 14  dribbling                    17107 non-null  float64\n",
            " 15  defending                    17107 non-null  float64\n",
            " 16  attacking_finishing          19239 non-null  int64  \n",
            " 17  skill_dribbling              19239 non-null  int64  \n",
            " 18  skill_curve                  19239 non-null  int64  \n",
            " 19  movement_acceleration        19239 non-null  int64  \n",
            " 20  movement_sprint_speed        19239 non-null  int64  \n",
            " 21  power_shot_power             19239 non-null  int64  \n",
            " 22  power_long_shots             19239 non-null  int64  \n",
            " 23  mentality_aggression         19239 non-null  int64  \n",
            " 24  defending_marking_awareness  19239 non-null  int64  \n",
            "dtypes: float64(8), int64(14), object(3)\n",
            "memory usage: 3.7+ MB\n"
          ]
        }
      ]
    },
    {
      "cell_type": "code",
      "source": [
        "\n",
        "#Drop club_team_id and league_level, since these are not player attributes or stats, and \n",
        "#likely don't affect salary\n",
        "df.drop(columns='club_team_id', inplace=True)"
      ],
      "metadata": {
        "id": "4IkCZQExa001"
      },
      "execution_count": 10,
      "outputs": []
    },
    {
      "cell_type": "code",
      "source": [
        "df.drop(columns='league_level', inplace=True)"
      ],
      "metadata": {
        "id": "-ejTh8LnbCaP"
      },
      "execution_count": 12,
      "outputs": []
    },
    {
      "cell_type": "code",
      "source": [
        "df.info()"
      ],
      "metadata": {
        "colab": {
          "base_uri": "https://localhost:8080/"
        },
        "id": "UBS7pYx-bHsR",
        "outputId": "2b95da4c-c5a6-48d9-9462-430fccc65bcb"
      },
      "execution_count": 13,
      "outputs": [
        {
          "output_type": "stream",
          "name": "stdout",
          "text": [
            "<class 'pandas.core.frame.DataFrame'>\n",
            "RangeIndex: 19239 entries, 0 to 19238\n",
            "Data columns (total 23 columns):\n",
            " #   Column                       Non-Null Count  Dtype  \n",
            "---  ------                       --------------  -----  \n",
            " 0   overall                      19239 non-null  int64  \n",
            " 1   potential                    19239 non-null  int64  \n",
            " 2   value_eur                    19165 non-null  float64\n",
            " 3   age                          19239 non-null  int64  \n",
            " 4   height_cm                    19239 non-null  int64  \n",
            " 5   weight_kg                    19239 non-null  int64  \n",
            " 6   club_position                19178 non-null  object \n",
            " 7   work_rate                    19239 non-null  object \n",
            " 8   body_type                    19239 non-null  object \n",
            " 9   pace                         17107 non-null  float64\n",
            " 10  shooting                     17107 non-null  float64\n",
            " 11  passing                      17107 non-null  float64\n",
            " 12  dribbling                    17107 non-null  float64\n",
            " 13  defending                    17107 non-null  float64\n",
            " 14  attacking_finishing          19239 non-null  int64  \n",
            " 15  skill_dribbling              19239 non-null  int64  \n",
            " 16  skill_curve                  19239 non-null  int64  \n",
            " 17  movement_acceleration        19239 non-null  int64  \n",
            " 18  movement_sprint_speed        19239 non-null  int64  \n",
            " 19  power_shot_power             19239 non-null  int64  \n",
            " 20  power_long_shots             19239 non-null  int64  \n",
            " 21  mentality_aggression         19239 non-null  int64  \n",
            " 22  defending_marking_awareness  19239 non-null  int64  \n",
            "dtypes: float64(6), int64(14), object(3)\n",
            "memory usage: 3.4+ MB\n"
          ]
        }
      ]
    },
    {
      "cell_type": "markdown",
      "source": [
        "For club position, I'm going to use \"constant\", instead of most_freq, because club position is unique, and salary changes drastically depending on position. I don't want a position that pays low (like wing defender), to be imputed as a position that pays high\n",
        "(like attacker), since that would skew my data.\n",
        "\n",
        "For all other missing data - those are statistics, so Im'going to use mean, since that won't likely skew data."
      ],
      "metadata": {
        "id": "caoiB5Dt2mjz"
      }
    },
    {
      "cell_type": "code",
      "source": [
        "#Look for outliers\n",
        "df.describe(include='all')"
      ],
      "metadata": {
        "colab": {
          "base_uri": "https://localhost:8080/",
          "height": 505
        },
        "id": "nKV4hH5FcEkQ",
        "outputId": "d2267f11-6d72-4e61-f348-1b307b4c800b"
      },
      "execution_count": 14,
      "outputs": [
        {
          "output_type": "execute_result",
          "data": {
            "text/plain": [
              "             overall     potential     value_eur           age     height_cm  \\\n",
              "count   19239.000000  19239.000000  1.916500e+04  19239.000000  19239.000000   \n",
              "unique           NaN           NaN           NaN           NaN           NaN   \n",
              "top              NaN           NaN           NaN           NaN           NaN   \n",
              "freq             NaN           NaN           NaN           NaN           NaN   \n",
              "mean       65.772182     71.079370  2.850452e+06     25.210822    181.299704   \n",
              "std         6.880232      6.086213  7.613700e+06      4.748235      6.863179   \n",
              "min        47.000000     49.000000  9.000000e+03     16.000000    155.000000   \n",
              "25%        61.000000     67.000000  4.750000e+05     21.000000    176.000000   \n",
              "50%        66.000000     71.000000  9.750000e+05     25.000000    181.000000   \n",
              "75%        70.000000     75.000000  2.000000e+06     29.000000    186.000000   \n",
              "max        93.000000     95.000000  1.940000e+08     54.000000    206.000000   \n",
              "\n",
              "           weight_kg club_position      work_rate         body_type  \\\n",
              "count   19239.000000         19178          19239             19239   \n",
              "unique           NaN            29              9                10   \n",
              "top              NaN           SUB  Medium/Medium  Normal (170-185)   \n",
              "freq             NaN          8299          10015              6685   \n",
              "mean       74.943032           NaN            NaN               NaN   \n",
              "std         7.069434           NaN            NaN               NaN   \n",
              "min        49.000000           NaN            NaN               NaN   \n",
              "25%        70.000000           NaN            NaN               NaN   \n",
              "50%        75.000000           NaN            NaN               NaN   \n",
              "75%        80.000000           NaN            NaN               NaN   \n",
              "max       110.000000           NaN            NaN               NaN   \n",
              "\n",
              "                pace  ...     defending  attacking_finishing  skill_dribbling  \\\n",
              "count   17107.000000  ...  17107.000000         19239.000000     19239.000000   \n",
              "unique           NaN  ...           NaN                  NaN              NaN   \n",
              "top              NaN  ...           NaN                  NaN              NaN   \n",
              "freq             NaN  ...           NaN                  NaN              NaN   \n",
              "mean       68.213071  ...     51.703630            45.894433        55.660429   \n",
              "std        10.933155  ...     16.189746            19.721023        18.784590   \n",
              "min        28.000000  ...     14.000000             2.000000         4.000000   \n",
              "25%        62.000000  ...     37.000000            30.000000        50.000000   \n",
              "50%        69.000000  ...     56.000000            50.000000        61.000000   \n",
              "75%        76.000000  ...     64.000000            62.000000        68.000000   \n",
              "max        97.000000  ...     91.000000            95.000000        96.000000   \n",
              "\n",
              "         skill_curve  movement_acceleration  movement_sprint_speed  \\\n",
              "count   19239.000000           19239.000000           19239.000000   \n",
              "unique           NaN                    NaN                    NaN   \n",
              "top              NaN                    NaN                    NaN   \n",
              "freq             NaN                    NaN                    NaN   \n",
              "mean       47.268933              64.652893              64.714902   \n",
              "std        18.181085              15.167399              14.965426   \n",
              "min         6.000000              14.000000              15.000000   \n",
              "25%        35.000000              57.000000              58.000000   \n",
              "50%        49.000000              67.000000              68.000000   \n",
              "75%        61.000000              75.000000              75.000000   \n",
              "max        94.000000              97.000000              97.000000   \n",
              "\n",
              "        power_shot_power  power_long_shots  mentality_aggression  \\\n",
              "count       19239.000000      19239.000000          19239.000000   \n",
              "unique               NaN               NaN                   NaN   \n",
              "top                  NaN               NaN                   NaN   \n",
              "freq                 NaN               NaN                   NaN   \n",
              "mean           57.776860         46.642705             55.538957   \n",
              "std            13.192224         19.411583             16.972181   \n",
              "min            20.000000          4.000000             10.000000   \n",
              "25%            48.000000         32.000000             44.000000   \n",
              "50%            59.000000         51.000000             58.000000   \n",
              "75%            68.000000         62.000000             68.000000   \n",
              "max            95.000000         94.000000             95.000000   \n",
              "\n",
              "        defending_marking_awareness  \n",
              "count                  19239.000000  \n",
              "unique                          NaN  \n",
              "top                             NaN  \n",
              "freq                            NaN  \n",
              "mean                      46.601746  \n",
              "std                       20.200807  \n",
              "min                        4.000000  \n",
              "25%                       29.000000  \n",
              "50%                       52.000000  \n",
              "75%                       63.000000  \n",
              "max                       93.000000  \n",
              "\n",
              "[11 rows x 23 columns]"
            ],
            "text/html": [
              "\n",
              "  <div id=\"df-c6290653-f9bc-4d38-8c68-32beeba07ba5\">\n",
              "    <div class=\"colab-df-container\">\n",
              "      <div>\n",
              "<style scoped>\n",
              "    .dataframe tbody tr th:only-of-type {\n",
              "        vertical-align: middle;\n",
              "    }\n",
              "\n",
              "    .dataframe tbody tr th {\n",
              "        vertical-align: top;\n",
              "    }\n",
              "\n",
              "    .dataframe thead th {\n",
              "        text-align: right;\n",
              "    }\n",
              "</style>\n",
              "<table border=\"1\" class=\"dataframe\">\n",
              "  <thead>\n",
              "    <tr style=\"text-align: right;\">\n",
              "      <th></th>\n",
              "      <th>overall</th>\n",
              "      <th>potential</th>\n",
              "      <th>value_eur</th>\n",
              "      <th>age</th>\n",
              "      <th>height_cm</th>\n",
              "      <th>weight_kg</th>\n",
              "      <th>club_position</th>\n",
              "      <th>work_rate</th>\n",
              "      <th>body_type</th>\n",
              "      <th>pace</th>\n",
              "      <th>...</th>\n",
              "      <th>defending</th>\n",
              "      <th>attacking_finishing</th>\n",
              "      <th>skill_dribbling</th>\n",
              "      <th>skill_curve</th>\n",
              "      <th>movement_acceleration</th>\n",
              "      <th>movement_sprint_speed</th>\n",
              "      <th>power_shot_power</th>\n",
              "      <th>power_long_shots</th>\n",
              "      <th>mentality_aggression</th>\n",
              "      <th>defending_marking_awareness</th>\n",
              "    </tr>\n",
              "  </thead>\n",
              "  <tbody>\n",
              "    <tr>\n",
              "      <th>count</th>\n",
              "      <td>19239.000000</td>\n",
              "      <td>19239.000000</td>\n",
              "      <td>1.916500e+04</td>\n",
              "      <td>19239.000000</td>\n",
              "      <td>19239.000000</td>\n",
              "      <td>19239.000000</td>\n",
              "      <td>19178</td>\n",
              "      <td>19239</td>\n",
              "      <td>19239</td>\n",
              "      <td>17107.000000</td>\n",
              "      <td>...</td>\n",
              "      <td>17107.000000</td>\n",
              "      <td>19239.000000</td>\n",
              "      <td>19239.000000</td>\n",
              "      <td>19239.000000</td>\n",
              "      <td>19239.000000</td>\n",
              "      <td>19239.000000</td>\n",
              "      <td>19239.000000</td>\n",
              "      <td>19239.000000</td>\n",
              "      <td>19239.000000</td>\n",
              "      <td>19239.000000</td>\n",
              "    </tr>\n",
              "    <tr>\n",
              "      <th>unique</th>\n",
              "      <td>NaN</td>\n",
              "      <td>NaN</td>\n",
              "      <td>NaN</td>\n",
              "      <td>NaN</td>\n",
              "      <td>NaN</td>\n",
              "      <td>NaN</td>\n",
              "      <td>29</td>\n",
              "      <td>9</td>\n",
              "      <td>10</td>\n",
              "      <td>NaN</td>\n",
              "      <td>...</td>\n",
              "      <td>NaN</td>\n",
              "      <td>NaN</td>\n",
              "      <td>NaN</td>\n",
              "      <td>NaN</td>\n",
              "      <td>NaN</td>\n",
              "      <td>NaN</td>\n",
              "      <td>NaN</td>\n",
              "      <td>NaN</td>\n",
              "      <td>NaN</td>\n",
              "      <td>NaN</td>\n",
              "    </tr>\n",
              "    <tr>\n",
              "      <th>top</th>\n",
              "      <td>NaN</td>\n",
              "      <td>NaN</td>\n",
              "      <td>NaN</td>\n",
              "      <td>NaN</td>\n",
              "      <td>NaN</td>\n",
              "      <td>NaN</td>\n",
              "      <td>SUB</td>\n",
              "      <td>Medium/Medium</td>\n",
              "      <td>Normal (170-185)</td>\n",
              "      <td>NaN</td>\n",
              "      <td>...</td>\n",
              "      <td>NaN</td>\n",
              "      <td>NaN</td>\n",
              "      <td>NaN</td>\n",
              "      <td>NaN</td>\n",
              "      <td>NaN</td>\n",
              "      <td>NaN</td>\n",
              "      <td>NaN</td>\n",
              "      <td>NaN</td>\n",
              "      <td>NaN</td>\n",
              "      <td>NaN</td>\n",
              "    </tr>\n",
              "    <tr>\n",
              "      <th>freq</th>\n",
              "      <td>NaN</td>\n",
              "      <td>NaN</td>\n",
              "      <td>NaN</td>\n",
              "      <td>NaN</td>\n",
              "      <td>NaN</td>\n",
              "      <td>NaN</td>\n",
              "      <td>8299</td>\n",
              "      <td>10015</td>\n",
              "      <td>6685</td>\n",
              "      <td>NaN</td>\n",
              "      <td>...</td>\n",
              "      <td>NaN</td>\n",
              "      <td>NaN</td>\n",
              "      <td>NaN</td>\n",
              "      <td>NaN</td>\n",
              "      <td>NaN</td>\n",
              "      <td>NaN</td>\n",
              "      <td>NaN</td>\n",
              "      <td>NaN</td>\n",
              "      <td>NaN</td>\n",
              "      <td>NaN</td>\n",
              "    </tr>\n",
              "    <tr>\n",
              "      <th>mean</th>\n",
              "      <td>65.772182</td>\n",
              "      <td>71.079370</td>\n",
              "      <td>2.850452e+06</td>\n",
              "      <td>25.210822</td>\n",
              "      <td>181.299704</td>\n",
              "      <td>74.943032</td>\n",
              "      <td>NaN</td>\n",
              "      <td>NaN</td>\n",
              "      <td>NaN</td>\n",
              "      <td>68.213071</td>\n",
              "      <td>...</td>\n",
              "      <td>51.703630</td>\n",
              "      <td>45.894433</td>\n",
              "      <td>55.660429</td>\n",
              "      <td>47.268933</td>\n",
              "      <td>64.652893</td>\n",
              "      <td>64.714902</td>\n",
              "      <td>57.776860</td>\n",
              "      <td>46.642705</td>\n",
              "      <td>55.538957</td>\n",
              "      <td>46.601746</td>\n",
              "    </tr>\n",
              "    <tr>\n",
              "      <th>std</th>\n",
              "      <td>6.880232</td>\n",
              "      <td>6.086213</td>\n",
              "      <td>7.613700e+06</td>\n",
              "      <td>4.748235</td>\n",
              "      <td>6.863179</td>\n",
              "      <td>7.069434</td>\n",
              "      <td>NaN</td>\n",
              "      <td>NaN</td>\n",
              "      <td>NaN</td>\n",
              "      <td>10.933155</td>\n",
              "      <td>...</td>\n",
              "      <td>16.189746</td>\n",
              "      <td>19.721023</td>\n",
              "      <td>18.784590</td>\n",
              "      <td>18.181085</td>\n",
              "      <td>15.167399</td>\n",
              "      <td>14.965426</td>\n",
              "      <td>13.192224</td>\n",
              "      <td>19.411583</td>\n",
              "      <td>16.972181</td>\n",
              "      <td>20.200807</td>\n",
              "    </tr>\n",
              "    <tr>\n",
              "      <th>min</th>\n",
              "      <td>47.000000</td>\n",
              "      <td>49.000000</td>\n",
              "      <td>9.000000e+03</td>\n",
              "      <td>16.000000</td>\n",
              "      <td>155.000000</td>\n",
              "      <td>49.000000</td>\n",
              "      <td>NaN</td>\n",
              "      <td>NaN</td>\n",
              "      <td>NaN</td>\n",
              "      <td>28.000000</td>\n",
              "      <td>...</td>\n",
              "      <td>14.000000</td>\n",
              "      <td>2.000000</td>\n",
              "      <td>4.000000</td>\n",
              "      <td>6.000000</td>\n",
              "      <td>14.000000</td>\n",
              "      <td>15.000000</td>\n",
              "      <td>20.000000</td>\n",
              "      <td>4.000000</td>\n",
              "      <td>10.000000</td>\n",
              "      <td>4.000000</td>\n",
              "    </tr>\n",
              "    <tr>\n",
              "      <th>25%</th>\n",
              "      <td>61.000000</td>\n",
              "      <td>67.000000</td>\n",
              "      <td>4.750000e+05</td>\n",
              "      <td>21.000000</td>\n",
              "      <td>176.000000</td>\n",
              "      <td>70.000000</td>\n",
              "      <td>NaN</td>\n",
              "      <td>NaN</td>\n",
              "      <td>NaN</td>\n",
              "      <td>62.000000</td>\n",
              "      <td>...</td>\n",
              "      <td>37.000000</td>\n",
              "      <td>30.000000</td>\n",
              "      <td>50.000000</td>\n",
              "      <td>35.000000</td>\n",
              "      <td>57.000000</td>\n",
              "      <td>58.000000</td>\n",
              "      <td>48.000000</td>\n",
              "      <td>32.000000</td>\n",
              "      <td>44.000000</td>\n",
              "      <td>29.000000</td>\n",
              "    </tr>\n",
              "    <tr>\n",
              "      <th>50%</th>\n",
              "      <td>66.000000</td>\n",
              "      <td>71.000000</td>\n",
              "      <td>9.750000e+05</td>\n",
              "      <td>25.000000</td>\n",
              "      <td>181.000000</td>\n",
              "      <td>75.000000</td>\n",
              "      <td>NaN</td>\n",
              "      <td>NaN</td>\n",
              "      <td>NaN</td>\n",
              "      <td>69.000000</td>\n",
              "      <td>...</td>\n",
              "      <td>56.000000</td>\n",
              "      <td>50.000000</td>\n",
              "      <td>61.000000</td>\n",
              "      <td>49.000000</td>\n",
              "      <td>67.000000</td>\n",
              "      <td>68.000000</td>\n",
              "      <td>59.000000</td>\n",
              "      <td>51.000000</td>\n",
              "      <td>58.000000</td>\n",
              "      <td>52.000000</td>\n",
              "    </tr>\n",
              "    <tr>\n",
              "      <th>75%</th>\n",
              "      <td>70.000000</td>\n",
              "      <td>75.000000</td>\n",
              "      <td>2.000000e+06</td>\n",
              "      <td>29.000000</td>\n",
              "      <td>186.000000</td>\n",
              "      <td>80.000000</td>\n",
              "      <td>NaN</td>\n",
              "      <td>NaN</td>\n",
              "      <td>NaN</td>\n",
              "      <td>76.000000</td>\n",
              "      <td>...</td>\n",
              "      <td>64.000000</td>\n",
              "      <td>62.000000</td>\n",
              "      <td>68.000000</td>\n",
              "      <td>61.000000</td>\n",
              "      <td>75.000000</td>\n",
              "      <td>75.000000</td>\n",
              "      <td>68.000000</td>\n",
              "      <td>62.000000</td>\n",
              "      <td>68.000000</td>\n",
              "      <td>63.000000</td>\n",
              "    </tr>\n",
              "    <tr>\n",
              "      <th>max</th>\n",
              "      <td>93.000000</td>\n",
              "      <td>95.000000</td>\n",
              "      <td>1.940000e+08</td>\n",
              "      <td>54.000000</td>\n",
              "      <td>206.000000</td>\n",
              "      <td>110.000000</td>\n",
              "      <td>NaN</td>\n",
              "      <td>NaN</td>\n",
              "      <td>NaN</td>\n",
              "      <td>97.000000</td>\n",
              "      <td>...</td>\n",
              "      <td>91.000000</td>\n",
              "      <td>95.000000</td>\n",
              "      <td>96.000000</td>\n",
              "      <td>94.000000</td>\n",
              "      <td>97.000000</td>\n",
              "      <td>97.000000</td>\n",
              "      <td>95.000000</td>\n",
              "      <td>94.000000</td>\n",
              "      <td>95.000000</td>\n",
              "      <td>93.000000</td>\n",
              "    </tr>\n",
              "  </tbody>\n",
              "</table>\n",
              "<p>11 rows × 23 columns</p>\n",
              "</div>\n",
              "      <button class=\"colab-df-convert\" onclick=\"convertToInteractive('df-c6290653-f9bc-4d38-8c68-32beeba07ba5')\"\n",
              "              title=\"Convert this dataframe to an interactive table.\"\n",
              "              style=\"display:none;\">\n",
              "        \n",
              "  <svg xmlns=\"http://www.w3.org/2000/svg\" height=\"24px\"viewBox=\"0 0 24 24\"\n",
              "       width=\"24px\">\n",
              "    <path d=\"M0 0h24v24H0V0z\" fill=\"none\"/>\n",
              "    <path d=\"M18.56 5.44l.94 2.06.94-2.06 2.06-.94-2.06-.94-.94-2.06-.94 2.06-2.06.94zm-11 1L8.5 8.5l.94-2.06 2.06-.94-2.06-.94L8.5 2.5l-.94 2.06-2.06.94zm10 10l.94 2.06.94-2.06 2.06-.94-2.06-.94-.94-2.06-.94 2.06-2.06.94z\"/><path d=\"M17.41 7.96l-1.37-1.37c-.4-.4-.92-.59-1.43-.59-.52 0-1.04.2-1.43.59L10.3 9.45l-7.72 7.72c-.78.78-.78 2.05 0 2.83L4 21.41c.39.39.9.59 1.41.59.51 0 1.02-.2 1.41-.59l7.78-7.78 2.81-2.81c.8-.78.8-2.07 0-2.86zM5.41 20L4 18.59l7.72-7.72 1.47 1.35L5.41 20z\"/>\n",
              "  </svg>\n",
              "      </button>\n",
              "      \n",
              "  <style>\n",
              "    .colab-df-container {\n",
              "      display:flex;\n",
              "      flex-wrap:wrap;\n",
              "      gap: 12px;\n",
              "    }\n",
              "\n",
              "    .colab-df-convert {\n",
              "      background-color: #E8F0FE;\n",
              "      border: none;\n",
              "      border-radius: 50%;\n",
              "      cursor: pointer;\n",
              "      display: none;\n",
              "      fill: #1967D2;\n",
              "      height: 32px;\n",
              "      padding: 0 0 0 0;\n",
              "      width: 32px;\n",
              "    }\n",
              "\n",
              "    .colab-df-convert:hover {\n",
              "      background-color: #E2EBFA;\n",
              "      box-shadow: 0px 1px 2px rgba(60, 64, 67, 0.3), 0px 1px 3px 1px rgba(60, 64, 67, 0.15);\n",
              "      fill: #174EA6;\n",
              "    }\n",
              "\n",
              "    [theme=dark] .colab-df-convert {\n",
              "      background-color: #3B4455;\n",
              "      fill: #D2E3FC;\n",
              "    }\n",
              "\n",
              "    [theme=dark] .colab-df-convert:hover {\n",
              "      background-color: #434B5C;\n",
              "      box-shadow: 0px 1px 3px 1px rgba(0, 0, 0, 0.15);\n",
              "      filter: drop-shadow(0px 1px 2px rgba(0, 0, 0, 0.3));\n",
              "      fill: #FFFFFF;\n",
              "    }\n",
              "  </style>\n",
              "\n",
              "      <script>\n",
              "        const buttonEl =\n",
              "          document.querySelector('#df-c6290653-f9bc-4d38-8c68-32beeba07ba5 button.colab-df-convert');\n",
              "        buttonEl.style.display =\n",
              "          google.colab.kernel.accessAllowed ? 'block' : 'none';\n",
              "\n",
              "        async function convertToInteractive(key) {\n",
              "          const element = document.querySelector('#df-c6290653-f9bc-4d38-8c68-32beeba07ba5');\n",
              "          const dataTable =\n",
              "            await google.colab.kernel.invokeFunction('convertToInteractive',\n",
              "                                                     [key], {});\n",
              "          if (!dataTable) return;\n",
              "\n",
              "          const docLinkHtml = 'Like what you see? Visit the ' +\n",
              "            '<a target=\"_blank\" href=https://colab.research.google.com/notebooks/data_table.ipynb>data table notebook</a>'\n",
              "            + ' to learn more about interactive tables.';\n",
              "          element.innerHTML = '';\n",
              "          dataTable['output_type'] = 'display_data';\n",
              "          await google.colab.output.renderOutput(dataTable, element);\n",
              "          const docLink = document.createElement('div');\n",
              "          docLink.innerHTML = docLinkHtml;\n",
              "          element.appendChild(docLink);\n",
              "        }\n",
              "      </script>\n",
              "    </div>\n",
              "  </div>\n",
              "  "
            ]
          },
          "metadata": {},
          "execution_count": 14
        }
      ]
    },
    {
      "cell_type": "code",
      "source": [
        "#There don't seem to be any outliers."
      ],
      "metadata": {
        "id": "1H-EOTFncSnv"
      },
      "execution_count": null,
      "outputs": []
    },
    {
      "cell_type": "code",
      "source": [
        "df.info()"
      ],
      "metadata": {
        "colab": {
          "base_uri": "https://localhost:8080/"
        },
        "id": "aWasPAnIco56",
        "outputId": "176364a1-91e0-4a7e-a3a5-16e4c6ba534e"
      },
      "execution_count": 15,
      "outputs": [
        {
          "output_type": "stream",
          "name": "stdout",
          "text": [
            "<class 'pandas.core.frame.DataFrame'>\n",
            "RangeIndex: 19239 entries, 0 to 19238\n",
            "Data columns (total 23 columns):\n",
            " #   Column                       Non-Null Count  Dtype  \n",
            "---  ------                       --------------  -----  \n",
            " 0   overall                      19239 non-null  int64  \n",
            " 1   potential                    19239 non-null  int64  \n",
            " 2   value_eur                    19165 non-null  float64\n",
            " 3   age                          19239 non-null  int64  \n",
            " 4   height_cm                    19239 non-null  int64  \n",
            " 5   weight_kg                    19239 non-null  int64  \n",
            " 6   club_position                19178 non-null  object \n",
            " 7   work_rate                    19239 non-null  object \n",
            " 8   body_type                    19239 non-null  object \n",
            " 9   pace                         17107 non-null  float64\n",
            " 10  shooting                     17107 non-null  float64\n",
            " 11  passing                      17107 non-null  float64\n",
            " 12  dribbling                    17107 non-null  float64\n",
            " 13  defending                    17107 non-null  float64\n",
            " 14  attacking_finishing          19239 non-null  int64  \n",
            " 15  skill_dribbling              19239 non-null  int64  \n",
            " 16  skill_curve                  19239 non-null  int64  \n",
            " 17  movement_acceleration        19239 non-null  int64  \n",
            " 18  movement_sprint_speed        19239 non-null  int64  \n",
            " 19  power_shot_power             19239 non-null  int64  \n",
            " 20  power_long_shots             19239 non-null  int64  \n",
            " 21  mentality_aggression         19239 non-null  int64  \n",
            " 22  defending_marking_awareness  19239 non-null  int64  \n",
            "dtypes: float64(6), int64(14), object(3)\n",
            "memory usage: 3.4+ MB\n"
          ]
        }
      ]
    },
    {
      "cell_type": "code",
      "source": [
        "#Inspect for inconsistent values\n",
        "print(df['age'].value_counts())\n",
        "print(df['club_position'].value_counts())\n",
        "print(df['work_rate'].value_counts())\n",
        "print(df['body_type'].value_counts())\n"
      ],
      "metadata": {
        "colab": {
          "base_uri": "https://localhost:8080/"
        },
        "id": "AIaeCdovceKO",
        "outputId": "e33353a3-3e9f-4c55-91c8-27687d4324c7"
      },
      "execution_count": 16,
      "outputs": [
        {
          "output_type": "stream",
          "name": "stdout",
          "text": [
            "21    1547\n",
            "22    1446\n",
            "24    1442\n",
            "25    1394\n",
            "23    1387\n",
            "20    1377\n",
            "27    1200\n",
            "26    1197\n",
            "29    1178\n",
            "28    1129\n",
            "19    1099\n",
            "30     901\n",
            "31     825\n",
            "18     733\n",
            "32     634\n",
            "33     468\n",
            "34     354\n",
            "17     271\n",
            "35     258\n",
            "36     146\n",
            "37     105\n",
            "38      62\n",
            "39      39\n",
            "16      20\n",
            "40      14\n",
            "41       7\n",
            "43       3\n",
            "42       2\n",
            "54       1\n",
            "Name: age, dtype: int64\n",
            "SUB    8299\n",
            "RES    3168\n",
            "RCB     701\n",
            "GK      701\n",
            "LCB     701\n",
            "RB      515\n",
            "LB      515\n",
            "ST      476\n",
            "RCM     470\n",
            "LCM     470\n",
            "LM      410\n",
            "RM      410\n",
            "CAM     292\n",
            "LDM     223\n",
            "RDM     223\n",
            "LS      223\n",
            "RS      223\n",
            "CB      186\n",
            "RW      185\n",
            "LW      185\n",
            "CDM     168\n",
            "RWB     116\n",
            "LWB     116\n",
            "CM       83\n",
            "RF       35\n",
            "LF       35\n",
            "LAM      21\n",
            "RAM      21\n",
            "CF        7\n",
            "Name: club_position, dtype: int64\n",
            "Medium/Medium    10015\n",
            "High/Medium       3661\n",
            "Medium/High       1880\n",
            "High/High         1099\n",
            "Medium/Low         810\n",
            "High/Low           808\n",
            "Low/Medium         466\n",
            "Low/High           455\n",
            "Low/Low             45\n",
            "Name: work_rate, dtype: int64\n",
            "Normal (170-185)    6685\n",
            "Normal (185+)       4236\n",
            "Lean (170-185)      4086\n",
            "Lean (185+)         1938\n",
            "Normal (170-)        669\n",
            "Stocky (170-185)     560\n",
            "Lean (170-)          477\n",
            "Stocky (185+)        355\n",
            "Unique               136\n",
            "Stocky (170-)         97\n",
            "Name: body_type, dtype: int64\n"
          ]
        }
      ]
    },
    {
      "cell_type": "code",
      "source": [
        "#There aren't any inconsistencies in my object data"
      ],
      "metadata": {
        "id": "-XF-F2RWdEkZ"
      },
      "execution_count": null,
      "outputs": []
    },
    {
      "cell_type": "markdown",
      "source": [
        "#Create univariate visuals for featuers and target"
      ],
      "metadata": {
        "id": "B7Bv58ZUfQE_"
      }
    },
    {
      "cell_type": "code",
      "source": [
        "df.info()"
      ],
      "metadata": {
        "colab": {
          "base_uri": "https://localhost:8080/"
        },
        "id": "0mwmg9wlfUt3",
        "outputId": "b6d09edb-6fe4-4d5b-a71d-acfbbc704bbf"
      },
      "execution_count": 30,
      "outputs": [
        {
          "output_type": "stream",
          "name": "stdout",
          "text": [
            "<class 'pandas.core.frame.DataFrame'>\n",
            "RangeIndex: 19239 entries, 0 to 19238\n",
            "Data columns (total 23 columns):\n",
            " #   Column                       Non-Null Count  Dtype  \n",
            "---  ------                       --------------  -----  \n",
            " 0   overall                      19239 non-null  int64  \n",
            " 1   potential                    19239 non-null  int64  \n",
            " 2   value_eur                    19165 non-null  float64\n",
            " 3   age                          19239 non-null  int64  \n",
            " 4   height_cm                    19239 non-null  int64  \n",
            " 5   weight_kg                    19239 non-null  int64  \n",
            " 6   club_position                19178 non-null  object \n",
            " 7   work_rate                    19239 non-null  object \n",
            " 8   body_type                    19239 non-null  object \n",
            " 9   pace                         17107 non-null  float64\n",
            " 10  shooting                     17107 non-null  float64\n",
            " 11  passing                      17107 non-null  float64\n",
            " 12  dribbling                    17107 non-null  float64\n",
            " 13  defending                    17107 non-null  float64\n",
            " 14  attacking_finishing          19239 non-null  int64  \n",
            " 15  skill_dribbling              19239 non-null  int64  \n",
            " 16  skill_curve                  19239 non-null  int64  \n",
            " 17  movement_acceleration        19239 non-null  int64  \n",
            " 18  movement_sprint_speed        19239 non-null  int64  \n",
            " 19  power_shot_power             19239 non-null  int64  \n",
            " 20  power_long_shots             19239 non-null  int64  \n",
            " 21  mentality_aggression         19239 non-null  int64  \n",
            " 22  defending_marking_awareness  19239 non-null  int64  \n",
            "dtypes: float64(6), int64(14), object(3)\n",
            "memory usage: 3.4+ MB\n"
          ]
        }
      ]
    },
    {
      "cell_type": "code",
      "source": [
        "#Overall- create histogram\n",
        "sns.histplot(data=df, x='overall');"
      ],
      "metadata": {
        "colab": {
          "base_uri": "https://localhost:8080/",
          "height": 279
        },
        "id": "-MCZUlo0fxze",
        "outputId": "adbe057f-e9d8-4477-bb1e-9c53b40f496b"
      },
      "execution_count": 39,
      "outputs": [
        {
          "output_type": "display_data",
          "data": {
            "text/plain": [
              "<Figure size 432x288 with 1 Axes>"
            ],
            "image/png": "[encoded data removed]"
          },
          "metadata": {
            "needs_background": "light"
          }
        }
      ]
    },
    {
      "cell_type": "markdown",
      "source": [
        "The majority of the overall ratings of players is about 66."
      ],
      "metadata": {
        "id": "-n_T4QiqgnKm"
      }
    },
    {
      "cell_type": "code",
      "source": [
        "#Histogram for potential\n",
        "sns.histplot(data=df, x='potential');"
      ],
      "metadata": {
        "colab": {
          "base_uri": "https://localhost:8080/",
          "height": 279
        },
        "id": "AYEviOWHgsEI",
        "outputId": "88b1efc4-4d3e-4bce-bd5e-a41dd17f909b"
      },
      "execution_count": 38,
      "outputs": [
        {
          "output_type": "display_data",
          "data": {
            "text/plain": [
              "<Figure size 432x288 with 1 Axes>"
            ],
            "image/png": "[encoded data removed]"
          },
          "metadata": {
            "needs_background": "light"
          }
        }
      ]
    },
    {
      "cell_type": "markdown",
      "source": [
        "The potential of player talent lies mostly between 70-75"
      ],
      "metadata": {
        "id": "9Hj0ZP46g9OO"
      }
    },
    {
      "cell_type": "code",
      "source": [
        "#Value in Euros - Target column\n",
        "fig, axes = plt.subplots(nrows=1, ncols=1, figsize=(8,5))\n",
        "sns.boxplot(data=df, x='value_eur');"
      ],
      "metadata": {
        "colab": {
          "base_uri": "https://localhost:8080/",
          "height": 335
        },
        "id": "XuDdJgkqhCDI",
        "outputId": "b1fa450e-7b20-4543-a452-4907e999d622"
      },
      "execution_count": 43,
      "outputs": [
        {
          "output_type": "display_data",
          "data": {
            "text/plain": [
              "<Figure size 576x360 with 1 Axes>"
            ],
            "image/png": "[encoded data removed]"
          },
          "metadata": {
            "needs_background": "light"
          }
        }
      ]
    },
    {
      "cell_type": "markdown",
      "source": [
        "The majority of players earn in the 25th quartile of all salaries. There is one outlier player who earns 25% more than the rest of players. "
      ],
      "metadata": {
        "id": "Mes-cyHbofgJ"
      }
    },
    {
      "cell_type": "code",
      "source": [
        "#Create visual about age distribution and how it correlates to salary.\n",
        "fig, axes = plt.subplots(figsize=(8,5))\n",
        "sns.barplot(data=df, x='age', y='value_eur');"
      ],
      "metadata": {
        "colab": {
          "base_uri": "https://localhost:8080/",
          "height": 414
        },
        "id": "f3dorlgVihV-",
        "outputId": "e197f7b2-999c-415b-d259-207bc3e08fc5"
      },
      "execution_count": 50,
      "outputs": [
        {
          "output_type": "stream",
          "name": "stderr",
          "text": [
            "/usr/local/lib/python3.9/dist-packages/seaborn/algorithms.py:98: RuntimeWarning: Mean of empty slice\n",
            "  boot_dist.append(f(*sample, **func_kwargs))\n",
            "/usr/local/lib/python3.9/dist-packages/seaborn/algorithms.py:98: RuntimeWarning: Mean of empty slice\n",
            "  boot_dist.append(f(*sample, **func_kwargs))\n"
          ]
        },
        {
          "output_type": "display_data",
          "data": {
            "text/plain": [
              "<Figure size 576x360 with 1 Axes>"
            ],
            "image/png": "[encoded data removed]"
          },
          "metadata": {
            "needs_background": "light"
          }
        }
      ]
    },
    {
      "cell_type": "markdown",
      "source": [
        "This graph shows the age distribution related to how much each player earns. The top earners are between the ages of 24-30, with a steep drop off after 30 years old.  The youngest player in the data set is 16, and the oldest is 43."
      ],
      "metadata": {
        "id": "L2lm8Y41oaE_"
      }
    },
    {
      "cell_type": "code",
      "source": [
        "fig, axes = plt.subplots(figsize=(8,5))\n",
        "sns.histplot(data=df, x='height_cm')"
      ],
      "metadata": {
        "colab": {
          "base_uri": "https://localhost:8080/",
          "height": 352
        },
        "id": "RDJtyRocjsLJ",
        "outputId": "2f4a0c00-c662-48cb-d99c-3cb3d53d22ae"
      },
      "execution_count": 54,
      "outputs": [
        {
          "output_type": "execute_result",
          "data": {
            "text/plain": [
              "<Axes: xlabel='height_cm', ylabel='Count'>"
            ]
          },
          "metadata": {},
          "execution_count": 54
        },
        {
          "output_type": "display_data",
          "data": {
            "text/plain": [
              "<Figure size 576x360 with 1 Axes>"
            ],
            "image/png": "[encoded data removed]"
          },
          "metadata": {
            "needs_background": "light"
          }
        }
      ]
    },
    {
      "cell_type": "markdown",
      "source": [
        "Most players are 180 centimeters tall."
      ],
      "metadata": {
        "id": "QgBoohxokXqh"
      }
    },
    {
      "cell_type": "code",
      "source": [
        "fig, axes = plt.subplots(figsize=(8,5))\n",
        "sns.histplot(data=df, x='weight_kg')"
      ],
      "metadata": {
        "colab": {
          "base_uri": "https://localhost:8080/",
          "height": 352
        },
        "id": "NXw34IhhkPmM",
        "outputId": "b34c8398-ac0e-4254-b472-dc9738bf9403"
      },
      "execution_count": 55,
      "outputs": [
        {
          "output_type": "execute_result",
          "data": {
            "text/plain": [
              "<Axes: xlabel='weight_kg', ylabel='Count'>"
            ]
          },
          "metadata": {},
          "execution_count": 55
        },
        {
          "output_type": "display_data",
          "data": {
            "text/plain": [
              "<Figure size 576x360 with 1 Axes>"
            ],
            "image/png": "[encoded data removed]"
          },
          "metadata": {
            "needs_background": "light"
          }
        }
      ]
    },
    {
      "cell_type": "markdown",
      "source": [
        "Most players weigh between 70-75 kilograms."
      ],
      "metadata": {
        "id": "GlENx2T0nz4k"
      }
    },
    {
      "cell_type": "code",
      "source": [
        "fig, axes = plt.subplots(figsize=(8,5))\n",
        "plt.xticks(rotation='vertical')\n",
        "sns.histplot(data=df, x='club_position')"
      ],
      "metadata": {
        "colab": {
          "base_uri": "https://localhost:8080/",
          "height": 365
        },
        "id": "jmXKiHvJkdFb",
        "outputId": "dc93574f-6e28-4bc7-c982-4a0356be61ff"
      },
      "execution_count": 58,
      "outputs": [
        {
          "output_type": "execute_result",
          "data": {
            "text/plain": [
              "<Axes: xlabel='club_position', ylabel='Count'>"
            ]
          },
          "metadata": {},
          "execution_count": 58
        },
        {
          "output_type": "display_data",
          "data": {
            "text/plain": [
              "<Figure size 576x360 with 1 Axes>"
            ],
            "image/png": "[encoded data removed]"
          },
          "metadata": {
            "needs_background": "light"
          }
        }
      ]
    },
    {
      "cell_type": "markdown",
      "source": [
        "The majority of players are substitutes. "
      ],
      "metadata": {
        "id": "7zfZwDuwkyCY"
      }
    },
    {
      "cell_type": "code",
      "source": [
        "#Work rate\n",
        "fig, axes = plt.subplots(figsize=(8,5))\n",
        "plt.xticks(rotation='vertical')\n",
        "sns.histplot(data=df, x='work_rate')"
      ],
      "metadata": {
        "colab": {
          "base_uri": "https://localhost:8080/",
          "height": 425
        },
        "id": "tiERvkvknBun",
        "outputId": "d5406a80-07f8-41e5-9211-ec3bda616ad2"
      },
      "execution_count": 71,
      "outputs": [
        {
          "output_type": "execute_result",
          "data": {
            "text/plain": [
              "<Axes: xlabel='work_rate', ylabel='Count'>"
            ]
          },
          "metadata": {},
          "execution_count": 71
        },
        {
          "output_type": "display_data",
          "data": {
            "text/plain": [
              "<Figure size 576x360 with 1 Axes>"
            ],
            "image/png": "[encoded data removed]"
          },
          "metadata": {
            "needs_background": "light"
          }
        }
      ]
    },
    {
      "cell_type": "markdown",
      "source": [
        "Most players' work rate is rated as \"medium / medium\".  "
      ],
      "metadata": {
        "id": "IJHl10Yyniu_"
      }
    },
    {
      "cell_type": "code",
      "source": [
        "#Body Types\n",
        "fig, axes = plt.subplots(figsize=(8,5))\n",
        "plt.xticks(rotation='vertical')\n",
        "sns.histplot(data=df, x='body_type');"
      ],
      "metadata": {
        "colab": {
          "base_uri": "https://localhost:8080/",
          "height": 416
        },
        "id": "lmuJu85QoBg7",
        "outputId": "89ba8d22-ca59-40b5-e8cb-5cc325d8ffca"
      },
      "execution_count": 74,
      "outputs": [
        {
          "output_type": "display_data",
          "data": {
            "text/plain": [
              "<Figure size 576x360 with 1 Axes>"
            ],
            "image/png": "[encoded data removed]"
          },
          "metadata": {
            "needs_background": "light"
          }
        }
      ]
    },
    {
      "cell_type": "markdown",
      "source": [
        "Most body types are normal. The fewest body types are stocky. "
      ],
      "metadata": {
        "id": "ZAZCxRBUoNm7"
      }
    },
    {
      "cell_type": "markdown",
      "source": [
        "For the remaining features, I created a heat map to see the correlation between the features and the target - salary. "
      ],
      "metadata": {
        "id": "nHnGVwr5ouR6"
      }
    },
    {
      "cell_type": "code",
      "source": [
        "df.info()"
      ],
      "metadata": {
        "colab": {
          "base_uri": "https://localhost:8080/"
        },
        "id": "ijaoSOospSLI",
        "outputId": "74c139f5-ce27-41e7-89fb-7bdf1bfdf328"
      },
      "execution_count": 76,
      "outputs": [
        {
          "output_type": "stream",
          "name": "stdout",
          "text": [
            "<class 'pandas.core.frame.DataFrame'>\n",
            "RangeIndex: 19239 entries, 0 to 19238\n",
            "Data columns (total 23 columns):\n",
            " #   Column                       Non-Null Count  Dtype  \n",
            "---  ------                       --------------  -----  \n",
            " 0   overall                      19239 non-null  int64  \n",
            " 1   potential                    19239 non-null  int64  \n",
            " 2   value_eur                    19165 non-null  float64\n",
            " 3   age                          19239 non-null  int64  \n",
            " 4   height_cm                    19239 non-null  int64  \n",
            " 5   weight_kg                    19239 non-null  int64  \n",
            " 6   club_position                19178 non-null  object \n",
            " 7   work_rate                    19239 non-null  object \n",
            " 8   body_type                    19239 non-null  object \n",
            " 9   pace                         17107 non-null  float64\n",
            " 10  shooting                     17107 non-null  float64\n",
            " 11  passing                      17107 non-null  float64\n",
            " 12  dribbling                    17107 non-null  float64\n",
            " 13  defending                    17107 non-null  float64\n",
            " 14  attacking_finishing          19239 non-null  int64  \n",
            " 15  skill_dribbling              19239 non-null  int64  \n",
            " 16  skill_curve                  19239 non-null  int64  \n",
            " 17  movement_acceleration        19239 non-null  int64  \n",
            " 18  movement_sprint_speed        19239 non-null  int64  \n",
            " 19  power_shot_power             19239 non-null  int64  \n",
            " 20  power_long_shots             19239 non-null  int64  \n",
            " 21  mentality_aggression         19239 non-null  int64  \n",
            " 22  defending_marking_awareness  19239 non-null  int64  \n",
            "dtypes: float64(6), int64(14), object(3)\n",
            "memory usage: 3.4+ MB\n"
          ]
        }
      ]
    },
    {
      "cell_type": "code",
      "source": [
        "cols_to_use = ['value_eur', 'pace', 'shooting', 'passing', 'dribbling', 'defending',\n",
        "               ]\n",
        "heat = df[cols_to_use]\n"
      ],
      "metadata": {
        "id": "w88R9ZFLowc8"
      },
      "execution_count": 82,
      "outputs": []
    },
    {
      "cell_type": "code",
      "source": [
        "sns.heatmap(heat, annot=True, cmap='Blues')"
      ],
      "metadata": {
        "colab": {
          "base_uri": "https://localhost:8080/"
        },
        "id": "9aX6IL7nsuBv",
        "outputId": "9d141b9e-1013-4256-b1cc-fc83e9735351"
      },
      "execution_count": null,
      "outputs": [
        {
          "output_type": "execute_result",
          "data": {
            "text/plain": [
              "<Axes: >"
            ]
          },
          "metadata": {},
          "execution_count": 87
        }
      ]
    },
    {
      "cell_type": "code",
      "source": [
        "cols_to_use2 = ['attacking_finishing', 'skill_dribbling', 'skill_curve',\n",
        "               'movement_acceleration', 'movement_sprint_speed', \n",
        "               'power_shot_power', 'power_long_shots', 'mentality_aggression',\n",
        "               'defending_marking_awareness']\n",
        "heat2 = df[cols_to_use2]"
      ],
      "metadata": {
        "id": "4EVjWhpKsm_o"
      },
      "execution_count": 86,
      "outputs": []
    },
    {
      "cell_type": "code",
      "source": [
        "sns.heatmap(heat2, annot=True, cmap='Greens')"
      ],
      "metadata": {
        "id": "_-a8v13os_yA"
      },
      "execution_count": null,
      "outputs": []
    },
    {
      "cell_type": "markdown",
      "source": [
        "#Prepare data for machine learning"
      ],
      "metadata": {
        "id": "0ycBh9-0fcxO"
      }
    },
    {
      "cell_type": "code",
      "source": [
        "#Split the data\n",
        "y = df['value_eur']\n",
        "X = df.drop(columns='value_eur')\n",
        "\n",
        "X_train, X_test, y_train, y_test = train_test_split(X, y, random_state=42)"
      ],
      "metadata": {
        "id": "RKL7NZTXdI_6"
      },
      "execution_count": 17,
      "outputs": []
    },
    {
      "cell_type": "markdown",
      "source": [
        "Impute missing values"
      ],
      "metadata": {
        "id": "CsULflwidy47"
      }
    },
    {
      "cell_type": "code",
      "source": [
        "scaler = StandardScaler()\n",
        "ohe = OneHotEncoder(sparse_output = False, handle_unknown='ignore')\n",
        "\n",
        "mean_imputer = SimpleImputer(strategy='mean')\n",
        "constant_imputer = SimpleImputer(strategy = 'constant', fill_value='missing')\n"
      ],
      "metadata": {
        "id": "a8y2U5E7daMA"
      },
      "execution_count": 19,
      "outputs": []
    },
    {
      "cell_type": "code",
      "source": [
        "num_pipe = make_pipeline(mean_imputer, scaler)\n",
        "cat_pipe = make_pipeline(constant_imputer, ohe)\n"
      ],
      "metadata": {
        "id": "rSp9Pk7Vdxro"
      },
      "execution_count": 20,
      "outputs": []
    },
    {
      "cell_type": "code",
      "source": [
        "cat_cols = make_column_selector(dtype_include='object')\n",
        "num_cols = make_column_selector(dtype_include = 'number')\n",
        "\n",
        "num_tuple = (num_pipe, num_cols)\n",
        "cat_tuple = (cat_pipe, cat_cols)"
      ],
      "metadata": {
        "id": "AJaYu2-Yd8oZ"
      },
      "execution_count": 21,
      "outputs": []
    },
    {
      "cell_type": "code",
      "source": [
        "preprocessor = make_column_transformer(num_tuple, cat_tuple, remainder='drop')"
      ],
      "metadata": {
        "id": "TzVB3m7HeNXf"
      },
      "execution_count": 22,
      "outputs": []
    },
    {
      "cell_type": "code",
      "source": [
        "preprocessor.fit(X_train)"
      ],
      "metadata": {
        "colab": {
          "base_uri": "https://localhost:8080/",
          "height": 150
        },
        "id": "g6TqZy13ediJ",
        "outputId": "a3e839f8-336a-475f-8b4f-73cc8bd7cf33"
      },
      "execution_count": 25,
      "outputs": [
        {
          "output_type": "execute_result",
          "data": {
            "text/plain": [
              "ColumnTransformer(transformers=[('pipeline-1',\n",
              "                                 Pipeline(steps=[('simpleimputer',\n",
              "                                                  SimpleImputer()),\n",
              "                                                 ('standardscaler',\n",
              "                                                  StandardScaler())]),\n",
              "                                 <sklearn.compose._column_transformer.make_column_selector object at 0x7fa649e2f130>),\n",
              "                                ('pipeline-2',\n",
              "                                 Pipeline(steps=[('simpleimputer',\n",
              "                                                  SimpleImputer(fill_value='missing',\n",
              "                                                                strategy='constant')),\n",
              "                                                 ('onehotencoder',\n",
              "                                                  OneHotEncoder(handle_unknown='ignore',\n",
              "                                                                sparse_output=False))]),\n",
              "                                 <sklearn.compose._column_transformer.make_column_selector object at 0x7fa649e2f250>)])"
            ],
            "text/html": [
              "<style>#sk-container-id-1 {color: black;background-color: white;}#sk-container-id-1 pre{padding: 0;}#sk-container-id-1 div.sk-toggleable {background-color: white;}#sk-container-id-1 label.sk-toggleable__label {cursor: pointer;display: block;width: 100%;margin-bottom: 0;padding: 0.3em;box-sizing: border-box;text-align: center;}#sk-container-id-1 label.sk-toggleable__label-arrow:before {content: \"▸\";float: left;margin-right: 0.25em;color: #696969;}#sk-container-id-1 label.sk-toggleable__label-arrow:hover:before {color: black;}#sk-container-id-1 div.sk-estimator:hover label.sk-toggleable__label-arrow:before {color: black;}#sk-container-id-1 div.sk-toggleable__content {max-height: 0;max-width: 0;overflow: hidden;text-align: left;background-color: #f0f8ff;}#sk-container-id-1 div.sk-toggleable__content pre {margin: 0.2em;color: black;border-radius: 0.25em;background-color: #f0f8ff;}#sk-container-id-1 input.sk-toggleable__control:checked~div.sk-toggleable__content {max-height: 200px;max-width: 100%;overflow: auto;}#sk-container-id-1 input.sk-toggleable__control:checked~label.sk-toggleable__label-arrow:before {content: \"▾\";}#sk-container-id-1 div.sk-estimator input.sk-toggleable__control:checked~label.sk-toggleable__label {background-color: #d4ebff;}#sk-container-id-1 div.sk-label input.sk-toggleable__control:checked~label.sk-toggleable__label {background-color: #d4ebff;}#sk-container-id-1 input.sk-hidden--visually {border: 0;clip: rect(1px 1px 1px 1px);clip: rect(1px, 1px, 1px, 1px);height: 1px;margin: -1px;overflow: hidden;padding: 0;position: absolute;width: 1px;}#sk-container-id-1 div.sk-estimator {font-family: monospace;background-color: #f0f8ff;border: 1px dotted black;border-radius: 0.25em;box-sizing: border-box;margin-bottom: 0.5em;}#sk-container-id-1 div.sk-estimator:hover {background-color: #d4ebff;}#sk-container-id-1 div.sk-parallel-item::after {content: \"\";width: 100%;border-bottom: 1px solid gray;flex-grow: 1;}#sk-container-id-1 div.sk-label:hover label.sk-toggleable__label {background-color: #d4ebff;}#sk-container-id-1 div.sk-serial::before {content: \"\";position: absolute;border-left: 1px solid gray;box-sizing: border-box;top: 0;bottom: 0;left: 50%;z-index: 0;}#sk-container-id-1 div.sk-serial {display: flex;flex-direction: column;align-items: center;background-color: white;padding-right: 0.2em;padding-left: 0.2em;position: relative;}#sk-container-id-1 div.sk-item {position: relative;z-index: 1;}#sk-container-id-1 div.sk-parallel {display: flex;align-items: stretch;justify-content: center;background-color: white;position: relative;}#sk-container-id-1 div.sk-item::before, #sk-container-id-1 div.sk-parallel-item::before {content: \"\";position: absolute;border-left: 1px solid gray;box-sizing: border-box;top: 0;bottom: 0;left: 50%;z-index: -1;}#sk-container-id-1 div.sk-parallel-item {display: flex;flex-direction: column;z-index: 1;position: relative;background-color: white;}#sk-container-id-1 div.sk-parallel-item:first-child::after {align-self: flex-end;width: 50%;}#sk-container-id-1 div.sk-parallel-item:last-child::after {align-self: flex-start;width: 50%;}#sk-container-id-1 div.sk-parallel-item:only-child::after {width: 0;}#sk-container-id-1 div.sk-dashed-wrapped {border: 1px dashed gray;margin: 0 0.4em 0.5em 0.4em;box-sizing: border-box;padding-bottom: 0.4em;background-color: white;}#sk-container-id-1 div.sk-label label {font-family: monospace;font-weight: bold;display: inline-block;line-height: 1.2em;}#sk-container-id-1 div.sk-label-container {text-align: center;}#sk-container-id-1 div.sk-container {/* jupyter's `normalize.less` sets `[hidden] { display: none; }` but bootstrap.min.css set `[hidden] { display: none !important; }` so we also need the `!important` here to be able to override the default hidden behavior on the sphinx rendered scikit-learn.org. See: https://github.com/scikit-learn/scikit-learn/issues/21755 */display: inline-block !important;position: relative;}#sk-container-id-1 div.sk-text-repr-fallback {display: none;}</style><div id=\"sk-container-id-1\" class=\"sk-top-container\"><div class=\"sk-text-repr-fallback\"><pre>ColumnTransformer(transformers=[(&#x27;pipeline-1&#x27;,\n",
              "                                 Pipeline(steps=[(&#x27;simpleimputer&#x27;,\n",
              "                                                  SimpleImputer()),\n",
              "                                                 (&#x27;standardscaler&#x27;,\n",
              "                                                  StandardScaler())]),\n",
              "                                 &lt;sklearn.compose._column_transformer.make_column_selector object at 0x7fa649e2f130&gt;),\n",
              "                                (&#x27;pipeline-2&#x27;,\n",
              "                                 Pipeline(steps=[(&#x27;simpleimputer&#x27;,\n",
              "                                                  SimpleImputer(fill_value=&#x27;missing&#x27;,\n",
              "                                                                strategy=&#x27;constant&#x27;)),\n",
              "                                                 (&#x27;onehotencoder&#x27;,\n",
              "                                                  OneHotEncoder(handle_unknown=&#x27;ignore&#x27;,\n",
              "                                                                sparse_output=False))]),\n",
              "                                 &lt;sklearn.compose._column_transformer.make_column_selector object at 0x7fa649e2f250&gt;)])</pre><b>In a Jupyter environment, please rerun this cell to show the HTML representation or trust the notebook. <br />On GitHub, the HTML representation is unable to render, please try loading this page with nbviewer.org.</b></div><div class=\"sk-container\" hidden><div class=\"sk-item sk-dashed-wrapped\"><div class=\"sk-label-container\"><div class=\"sk-label sk-toggleable\"><input class=\"sk-toggleable__control sk-hidden--visually\" id=\"sk-estimator-id-1\" type=\"checkbox\" ><label for=\"sk-estimator-id-1\" class=\"sk-toggleable__label sk-toggleable__label-arrow\">ColumnTransformer</label><div class=\"sk-toggleable__content\"><pre>ColumnTransformer(transformers=[(&#x27;pipeline-1&#x27;,\n",
              "                                 Pipeline(steps=[(&#x27;simpleimputer&#x27;,\n",
              "                                                  SimpleImputer()),\n",
              "                                                 (&#x27;standardscaler&#x27;,\n",
              "                                                  StandardScaler())]),\n",
              "                                 &lt;sklearn.compose._column_transformer.make_column_selector object at 0x7fa649e2f130&gt;),\n",
              "                                (&#x27;pipeline-2&#x27;,\n",
              "                                 Pipeline(steps=[(&#x27;simpleimputer&#x27;,\n",
              "                                                  SimpleImputer(fill_value=&#x27;missing&#x27;,\n",
              "                                                                strategy=&#x27;constant&#x27;)),\n",
              "                                                 (&#x27;onehotencoder&#x27;,\n",
              "                                                  OneHotEncoder(handle_unknown=&#x27;ignore&#x27;,\n",
              "                                                                sparse_output=False))]),\n",
              "                                 &lt;sklearn.compose._column_transformer.make_column_selector object at 0x7fa649e2f250&gt;)])</pre></div></div></div><div class=\"sk-parallel\"><div class=\"sk-parallel-item\"><div class=\"sk-item\"><div class=\"sk-label-container\"><div class=\"sk-label sk-toggleable\"><input class=\"sk-toggleable__control sk-hidden--visually\" id=\"sk-estimator-id-2\" type=\"checkbox\" ><label for=\"sk-estimator-id-2\" class=\"sk-toggleable__label sk-toggleable__label-arrow\">pipeline-1</label><div class=\"sk-toggleable__content\"><pre>&lt;sklearn.compose._column_transformer.make_column_selector object at 0x7fa649e2f130&gt;</pre></div></div></div><div class=\"sk-serial\"><div class=\"sk-item\"><div class=\"sk-serial\"><div class=\"sk-item\"><div class=\"sk-estimator sk-toggleable\"><input class=\"sk-toggleable__control sk-hidden--visually\" id=\"sk-estimator-id-3\" type=\"checkbox\" ><label for=\"sk-estimator-id-3\" class=\"sk-toggleable__label sk-toggleable__label-arrow\">SimpleImputer</label><div class=\"sk-toggleable__content\"><pre>SimpleImputer()</pre></div></div></div><div class=\"sk-item\"><div class=\"sk-estimator sk-toggleable\"><input class=\"sk-toggleable__control sk-hidden--visually\" id=\"sk-estimator-id-4\" type=\"checkbox\" ><label for=\"sk-estimator-id-4\" class=\"sk-toggleable__label sk-toggleable__label-arrow\">StandardScaler</label><div class=\"sk-toggleable__content\"><pre>StandardScaler()</pre></div></div></div></div></div></div></div></div><div class=\"sk-parallel-item\"><div class=\"sk-item\"><div class=\"sk-label-container\"><div class=\"sk-label sk-toggleable\"><input class=\"sk-toggleable__control sk-hidden--visually\" id=\"sk-estimator-id-5\" type=\"checkbox\" ><label for=\"sk-estimator-id-5\" class=\"sk-toggleable__label sk-toggleable__label-arrow\">pipeline-2</label><div class=\"sk-toggleable__content\"><pre>&lt;sklearn.compose._column_transformer.make_column_selector object at 0x7fa649e2f250&gt;</pre></div></div></div><div class=\"sk-serial\"><div class=\"sk-item\"><div class=\"sk-serial\"><div class=\"sk-item\"><div class=\"sk-estimator sk-toggleable\"><input class=\"sk-toggleable__control sk-hidden--visually\" id=\"sk-estimator-id-6\" type=\"checkbox\" ><label for=\"sk-estimator-id-6\" class=\"sk-toggleable__label sk-toggleable__label-arrow\">SimpleImputer</label><div class=\"sk-toggleable__content\"><pre>SimpleImputer(fill_value=&#x27;missing&#x27;, strategy=&#x27;constant&#x27;)</pre></div></div></div><div class=\"sk-item\"><div class=\"sk-estimator sk-toggleable\"><input class=\"sk-toggleable__control sk-hidden--visually\" id=\"sk-estimator-id-7\" type=\"checkbox\" ><label for=\"sk-estimator-id-7\" class=\"sk-toggleable__label sk-toggleable__label-arrow\">OneHotEncoder</label><div class=\"sk-toggleable__content\"><pre>OneHotEncoder(handle_unknown=&#x27;ignore&#x27;, sparse_output=False)</pre></div></div></div></div></div></div></div></div></div></div></div></div>"
            ]
          },
          "metadata": {},
          "execution_count": 25
        }
      ]
    },
    {
      "cell_type": "code",
      "source": [
        "preprocessor.transform(X_train)\n",
        "preprocessor.transform(X_test)"
      ],
      "metadata": {
        "colab": {
          "base_uri": "https://localhost:8080/"
        },
        "id": "bHYqjt8HeTLB",
        "outputId": "a25b9996-f7d3-4d8b-9b8e-7183ffa24b28"
      },
      "execution_count": 28,
      "outputs": [
        {
          "output_type": "execute_result",
          "data": {
            "text/plain": [
              "array([[-0.3994711 ,  0.31309138, -0.88401579, ...,  0.        ,\n",
              "         0.        ,  0.        ],\n",
              "       [-1.26764761, -0.83184593, -0.67368925, ...,  0.        ,\n",
              "         0.        ,  0.        ],\n",
              "       [-1.99112804,  0.64021633, -1.93564854, ...,  0.        ,\n",
              "         0.        ,  0.        ],\n",
              "       ...,\n",
              "       [-0.25477502, -1.15897088,  1.42957625, ...,  0.        ,\n",
              "         1.        ,  0.        ],\n",
              "       [-1.70173587, -0.50472099, -0.88401579, ...,  0.        ,\n",
              "         0.        ,  0.        ],\n",
              "       [ 1.62627409,  2.11227858, -0.88401579, ...,  0.        ,\n",
              "         0.        ,  0.        ]])"
            ]
          },
          "metadata": {},
          "execution_count": 28
        }
      ]
    },
    {
      "cell_type": "code",
      "source": [],
      "metadata": {
        "id": "qnrbZWvbendt"
      },
      "execution_count": null,
      "outputs": []
    }
  ]
}